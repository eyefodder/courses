{
 "cells": [
  {
   "cell_type": "markdown",
   "metadata": {},
   "source": [
    "# Appendix 10.1: Chaining Prompts\n",
    "\n",
    "- [Lesson](#lesson)\n",
    "- [Example Playground](#example-playground)\n",
    "\n",
    "## Setup\n",
    "\n",
    "Run the following setup cell to load your API key and establish the `get_completion` helper function."
   ]
  },
  {
   "cell_type": "code",
   "execution_count": 1,
   "metadata": {},
   "outputs": [
    {
     "name": "stdout",
     "output_type": "stream",
     "text": [
      "Requirement already satisfied: anthropic in /Users/pbh/anaconda3/envs/XCS224N/lib/python3.8/site-packages (0.34.2)\r\n",
      "Requirement already satisfied: anyio<5,>=3.5.0 in /Users/pbh/anaconda3/envs/XCS224N/lib/python3.8/site-packages (from anthropic) (3.5.0)\r\n",
      "Requirement already satisfied: distro<2,>=1.7.0 in /Users/pbh/anaconda3/envs/XCS224N/lib/python3.8/site-packages (from anthropic) (1.9.0)\r\n",
      "Requirement already satisfied: httpx<1,>=0.23.0 in /Users/pbh/anaconda3/envs/XCS224N/lib/python3.8/site-packages (from anthropic) (0.27.2)\r\n",
      "Requirement already satisfied: jiter<1,>=0.4.0 in /Users/pbh/anaconda3/envs/XCS224N/lib/python3.8/site-packages (from anthropic) (0.5.0)\r\n",
      "Requirement already satisfied: pydantic<3,>=1.9.0 in /Users/pbh/anaconda3/envs/XCS224N/lib/python3.8/site-packages (from anthropic) (2.9.2)\r\n",
      "Requirement already satisfied: sniffio in /Users/pbh/anaconda3/envs/XCS224N/lib/python3.8/site-packages (from anthropic) (1.2.0)\r\n",
      "Requirement already satisfied: tokenizers>=0.13.0 in /Users/pbh/anaconda3/envs/XCS224N/lib/python3.8/site-packages (from anthropic) (0.20.0)\r\n",
      "Requirement already satisfied: typing-extensions<5,>=4.7 in /Users/pbh/anaconda3/envs/XCS224N/lib/python3.8/site-packages (from anthropic) (4.7.1)\r\n",
      "Requirement already satisfied: idna>=2.8 in /Users/pbh/anaconda3/envs/XCS224N/lib/python3.8/site-packages (from anyio<5,>=3.5.0->anthropic) (3.4)\r\n",
      "Requirement already satisfied: certifi in /Users/pbh/anaconda3/envs/XCS224N/lib/python3.8/site-packages (from httpx<1,>=0.23.0->anthropic) (2023.7.22)\r\n",
      "Requirement already satisfied: httpcore==1.* in /Users/pbh/anaconda3/envs/XCS224N/lib/python3.8/site-packages (from httpx<1,>=0.23.0->anthropic) (1.0.5)\r\n",
      "Requirement already satisfied: h11<0.15,>=0.13 in /Users/pbh/anaconda3/envs/XCS224N/lib/python3.8/site-packages (from httpcore==1.*->httpx<1,>=0.23.0->anthropic) (0.14.0)\r\n",
      "Requirement already satisfied: annotated-types>=0.6.0 in /Users/pbh/anaconda3/envs/XCS224N/lib/python3.8/site-packages (from pydantic<3,>=1.9.0->anthropic) (0.7.0)\r\n",
      "Requirement already satisfied: pydantic-core==2.23.4 in /Users/pbh/anaconda3/envs/XCS224N/lib/python3.8/site-packages (from pydantic<3,>=1.9.0->anthropic) (2.23.4)\r\n",
      "Requirement already satisfied: huggingface-hub<1.0,>=0.16.4 in /Users/pbh/anaconda3/envs/XCS224N/lib/python3.8/site-packages (from tokenizers>=0.13.0->anthropic) (0.25.1)\r\n",
      "Requirement already satisfied: filelock in /Users/pbh/anaconda3/envs/XCS224N/lib/python3.8/site-packages (from huggingface-hub<1.0,>=0.16.4->tokenizers>=0.13.0->anthropic) (3.12.4)\r\n",
      "Requirement already satisfied: fsspec>=2023.5.0 in /Users/pbh/anaconda3/envs/XCS224N/lib/python3.8/site-packages (from huggingface-hub<1.0,>=0.16.4->tokenizers>=0.13.0->anthropic) (2024.9.0)\r\n",
      "Requirement already satisfied: packaging>=20.9 in /Users/pbh/anaconda3/envs/XCS224N/lib/python3.8/site-packages (from huggingface-hub<1.0,>=0.16.4->tokenizers>=0.13.0->anthropic) (23.1)\r\n",
      "Requirement already satisfied: pyyaml>=5.1 in /Users/pbh/anaconda3/envs/XCS224N/lib/python3.8/site-packages (from huggingface-hub<1.0,>=0.16.4->tokenizers>=0.13.0->anthropic) (6.0.2)\r\n",
      "Requirement already satisfied: requests in /Users/pbh/anaconda3/envs/XCS224N/lib/python3.8/site-packages (from huggingface-hub<1.0,>=0.16.4->tokenizers>=0.13.0->anthropic) (2.31.0)\r\n",
      "Requirement already satisfied: tqdm>=4.42.1 in /Users/pbh/anaconda3/envs/XCS224N/lib/python3.8/site-packages (from huggingface-hub<1.0,>=0.16.4->tokenizers>=0.13.0->anthropic) (4.65.0)\r\n",
      "Requirement already satisfied: charset-normalizer<4,>=2 in /Users/pbh/anaconda3/envs/XCS224N/lib/python3.8/site-packages (from requests->huggingface-hub<1.0,>=0.16.4->tokenizers>=0.13.0->anthropic) (2.0.4)\r\n",
      "Requirement already satisfied: urllib3<3,>=1.21.1 in /Users/pbh/anaconda3/envs/XCS224N/lib/python3.8/site-packages (from requests->huggingface-hub<1.0,>=0.16.4->tokenizers>=0.13.0->anthropic) (1.26.16)\r\n",
      "Note: you may need to restart the kernel to use updated packages.\n"
     ]
    }
   ],
   "source": [
    "%pip install anthropic\n",
    "\n",
    "# Import python's built-in regular expression library\n",
    "import re\n",
    "from dotenv import load_dotenv\n",
    "from anthropic import Anthropic\n",
    "\n",
    "load_dotenv() # ensure you have a `.env` file with your API key. follow the prompts in 00_Tutorial to set up\n",
    "client = Anthropic()\n",
    "MODEL_NAME = \"claude-3-haiku-20240307\"\n",
    "\n",
    "# Has been rewritten to take in a messages list of arbitrary length\n",
    "def get_completion(messages, system_prompt=\"\"):\n",
    "    message = client.messages.create(\n",
    "        model=MODEL_NAME,\n",
    "        max_tokens=2000,\n",
    "        temperature=0.0,\n",
    "        system=system_prompt,\n",
    "        messages=messages\n",
    "    )\n",
    "    return message.content[0].text"
   ]
  },
  {
   "cell_type": "markdown",
   "metadata": {},
   "source": [
    "---\n",
    "\n",
    "## Lesson\n",
    "\n",
    "The saying goes, \"Writing is rewriting.\" It turns out, **Claude can often improve the accuracy of its response when asked to do so**!\n",
    "\n",
    "There are many ways to prompt Claude to \"think again\". The ways that feel natural to ask a human to double check their work will also generally work for Claude. (Check out our [prompt chaining documentation](https://docs.anthropic.com/claude/docs/chain-prompts) for further examples of when and how to use prompt chaining.)"
   ]
  },
  {
   "cell_type": "markdown",
   "metadata": {},
   "source": [
    "### Examples\n",
    "\n",
    "In this example, we ask Claude to come up with ten words... but one or more of them isn't a real word."
   ]
  },
  {
   "cell_type": "code",
   "execution_count": 2,
   "metadata": {},
   "outputs": [
    {
     "name": "stdout",
     "output_type": "stream",
     "text": [
      "Here are ten words that all end with the letters 'ab':\n",
      "\n",
      "1. Cab\n",
      "2. Dab\n",
      "3. Grab\n",
      "4. Jab\n",
      "5. Lab\n",
      "6. Nab\n",
      "7. Slab\n",
      "8. Tab\n",
      "9. Wab\n",
      "10. Zab\n"
     ]
    }
   ],
   "source": [
    "# Initial prompt\n",
    "first_user = \"Name ten words that all end with the exact letters 'ab'.\"\n",
    "\n",
    "# API messages array\n",
    "messages = [\n",
    "    {\n",
    "        \"role\": \"user\",\n",
    "        \"content\": first_user\n",
    "    }\n",
    "]\n",
    "\n",
    "# Store and print Claude's response\n",
    "first_response = get_completion(messages)\n",
    "print(first_response)"
   ]
  },
  {
   "cell_type": "markdown",
   "metadata": {},
   "source": [
    "**Asking Claude to make its answer more accurate** fixes the error! \n",
    "\n",
    "Below, we've pulled down Claude's incorrect response from above and added another turn to the conversation asking Claude to fix its previous answer."
   ]
  },
  {
   "cell_type": "code",
   "execution_count": 3,
   "metadata": {},
   "outputs": [
    {
     "name": "stdout",
     "output_type": "stream",
     "text": [
      "------------------------ Full messsages array with variable substutions ------------------------\n",
      "[{'role': 'user', 'content': \"Name ten words that all end with the exact letters 'ab'.\"}, {'role': 'assistant', 'content': \"Here are ten words that all end with the letters 'ab':\\n\\n1. Cab\\n2. Dab\\n3. Grab\\n4. Jab\\n5. Lab\\n6. Nab\\n7. Slab\\n8. Tab\\n9. Wab\\n10. Zab\"}, {'role': 'user', 'content': \"Please find replacements for all 'words' that are not real words.\"}]\n",
      "\n",
      "------------------------------------- Claude's response -------------------------------------\n",
      "Here are ten real words that all end with the exact letters 'ab':\n",
      "\n",
      "1. Cab\n",
      "2. Dab\n",
      "3. Grab\n",
      "4. Jab\n",
      "5. Lab\n",
      "6. Nab\n",
      "7. Slab\n",
      "8. Tab\n",
      "9. Crab\n",
      "10. Blab\n"
     ]
    }
   ],
   "source": [
    "second_user = \"Please find replacements for all 'words' that are not real words.\"\n",
    "\n",
    "# API messages array\n",
    "messages = [\n",
    "    {\n",
    "        \"role\": \"user\",\n",
    "        \"content\": first_user\n",
    "    \n",
    "    },\n",
    "    {\n",
    "        \"role\": \"assistant\",\n",
    "        \"content\": first_response\n",
    "    \n",
    "    },\n",
    "    {\n",
    "        \"role\": \"user\",\n",
    "        \"content\": second_user\n",
    "    \n",
    "    }\n",
    "]\n",
    "\n",
    "# Print Claude's response\n",
    "print(\"------------------------ Full messsages array with variable substutions ------------------------\")\n",
    "print(messages)\n",
    "print(\"\\n------------------------------------- Claude's response -------------------------------------\")\n",
    "print(get_completion(messages))"
   ]
  },
  {
   "cell_type": "markdown",
   "metadata": {},
   "source": [
    "But is Claude revising its answer just because we told it to? What if we start off with a correct answer already? Will Claude lose its confidence? Here, we've placed a correct response in the place of `first_response` and asked it to double check again."
   ]
  },
  {
   "cell_type": "code",
   "execution_count": 4,
   "metadata": {},
   "outputs": [
    {
     "name": "stdout",
     "output_type": "stream",
     "text": [
      "------------------------ Full messsages array with variable substutions ------------------------\n",
      "[{'role': 'user', 'content': \"Name ten words that all end with the exact letters 'ab'.\"}, {'role': 'assistant', 'content': \"Here are 10 words that end with the letters 'ab':\\n\\n1. Cab\\n2. Dab\\n3. Grab\\n4. Gab\\n5. Jab\\n6. Lab\\n7. Nab\\n8. Slab\\n9. Tab\\n10. Blab\"}, {'role': 'user', 'content': \"Please find replacements for all 'words' that are not real words.\"}]\n",
      "\n",
      "------------------------------------- Claude's response -------------------------------------\n",
      "Here are 10 real words that end with the letters 'ab':\n",
      "\n",
      "1. Cab\n",
      "2. Dab\n",
      "3. Grab\n",
      "4. Gab\n",
      "5. Jab\n",
      "6. Lab\n",
      "7. Nab\n",
      "8. Slab\n",
      "9. Tab\n",
      "10. Blab\n"
     ]
    }
   ],
   "source": [
    "first_user = \"Name ten words that all end with the exact letters 'ab'.\"\n",
    "\n",
    "first_response = \"\"\"Here are 10 words that end with the letters 'ab':\n",
    "\n",
    "1. Cab\n",
    "2. Dab\n",
    "3. Grab\n",
    "4. Gab\n",
    "5. Jab\n",
    "6. Lab\n",
    "7. Nab\n",
    "8. Slab\n",
    "9. Tab\n",
    "10. Blab\"\"\"\n",
    "\n",
    "second_user = \"Please find replacements for all 'words' that are not real words.\"\n",
    "\n",
    "# API messages array\n",
    "messages = [\n",
    "    {\n",
    "        \"role\": \"user\",\n",
    "        \"content\": first_user\n",
    "    \n",
    "    },\n",
    "    {\n",
    "        \"role\": \"assistant\",\n",
    "        \"content\": first_response\n",
    "    \n",
    "    },\n",
    "    {\n",
    "        \"role\": \"user\",\n",
    "        \"content\": second_user\n",
    "    \n",
    "    }\n",
    "]\n",
    "\n",
    "# Print Claude's response\n",
    "print(\"------------------------ Full messsages array with variable substutions ------------------------\")\n",
    "print(messages)\n",
    "print(\"\\n------------------------------------- Claude's response -------------------------------------\")\n",
    "print(get_completion(messages))"
   ]
  },
  {
   "cell_type": "markdown",
   "metadata": {},
   "source": [
    "You may notice that if you generate a respnse from the above block a few times, Claude leaves the words as is most of the time, but still occasionally changes the words even though they're all already correct. What can we do to mitigate this? Per Chapter 8, we can give Claude an out! Let's try this one more time."
   ]
  },
  {
   "cell_type": "code",
   "execution_count": 5,
   "metadata": {},
   "outputs": [
    {
     "name": "stdout",
     "output_type": "stream",
     "text": [
      "------------------------ Full messsages array with variable substutions ------------------------\n",
      "[{'role': 'user', 'content': \"Name ten words that all end with the exact letters 'ab'.\"}, {'role': 'assistant', 'content': \"Here are 10 words that end with the letters 'ab':\\n\\n1. Cab\\n2. Dab\\n3. Grab\\n4. Gab\\n5. Jab\\n6. Lab\\n7. Nab\\n8. Slab\\n9. Tab\\n10. Blab\"}, {'role': 'user', 'content': \"Please find replacements for all 'words' that are not real words. If all the words are real words, return the original list.\"}]\n",
      "\n",
      "------------------------------------- Claude's response -------------------------------------\n",
      "Okay, here is the list with replacements for any words that are not real:\n",
      "\n",
      "1. Cab\n",
      "2. Dab\n",
      "3. Grab\n",
      "4. Gab\n",
      "5. Jab\n",
      "6. Lab\n",
      "7. Nab\n",
      "8. Slab\n",
      "9. Tab\n",
      "10. Blab\n",
      "\n",
      "All of these are real words, so the original list is returned.\n"
     ]
    }
   ],
   "source": [
    "first_user = \"Name ten words that all end with the exact letters 'ab'.\"\n",
    "\n",
    "first_response = \"\"\"Here are 10 words that end with the letters 'ab':\n",
    "\n",
    "1. Cab\n",
    "2. Dab\n",
    "3. Grab\n",
    "4. Gab\n",
    "5. Jab\n",
    "6. Lab\n",
    "7. Nab\n",
    "8. Slab\n",
    "9. Tab\n",
    "10. Blab\"\"\"\n",
    "\n",
    "second_user = \"Please find replacements for all 'words' that are not real words. If all the words are real words, return the original list.\"\n",
    "\n",
    "# API messages array\n",
    "messages = [\n",
    "    {\n",
    "        \"role\": \"user\",\n",
    "        \"content\": first_user\n",
    "    \n",
    "    },\n",
    "    {\n",
    "        \"role\": \"assistant\",\n",
    "        \"content\": first_response\n",
    "    \n",
    "    },\n",
    "    {\n",
    "        \"role\": \"user\",\n",
    "        \"content\": second_user\n",
    "    \n",
    "    }\n",
    "]\n",
    "\n",
    "# Print Claude's response\n",
    "print(\"------------------------ Full messsages array with variable substutions ------------------------\")\n",
    "print(messages)\n",
    "print(\"\\n------------------------------------- Claude's response -------------------------------------\")\n",
    "print(get_completion(messages))"
   ]
  },
  {
   "cell_type": "markdown",
   "metadata": {},
   "source": [
    "Try generating responses from the above code a few times to see that Claude is much better at sticking to its guns now.\n",
    "\n",
    "You can also use prompt chaining to **ask Claude to make its responses better**. Below, we asked Claude to first write a story, and then improve the story it wrote. Your personal tastes may vary, but many might agree that Claude's second version is better.\n",
    "\n",
    "First, let's generate Claude's first version of the story."
   ]
  },
  {
   "cell_type": "code",
   "execution_count": 6,
   "metadata": {},
   "outputs": [
    {
     "name": "stdout",
     "output_type": "stream",
     "text": [
      "Here is a three-sentence short story about a girl who likes to run:\n",
      "\n",
      "Amelia loved the feeling of the wind rushing through her hair as she raced down the trail, her feet pounding against the soft earth. With each stride, she felt a sense of freedom and exhilaration that she couldn't find anywhere else. As she crossed the finish line, a triumphant smile spread across her face, knowing that she had pushed herself to the limit and come out stronger for it.\n"
     ]
    }
   ],
   "source": [
    "# Initial prompt\n",
    "first_user = \"Write a three-sentence short story about a girl who likes to run.\"\n",
    "\n",
    "# API messages array\n",
    "messages = [\n",
    "    {\n",
    "        \"role\": \"user\",\n",
    "        \"content\": first_user\n",
    "    }\n",
    "]\n",
    "\n",
    "# Store and print Claude's response\n",
    "first_response = get_completion(messages)\n",
    "print(first_response)"
   ]
  },
  {
   "cell_type": "markdown",
   "metadata": {},
   "source": [
    "Now let's have Claude improve on its first draft."
   ]
  },
  {
   "cell_type": "code",
   "execution_count": 7,
   "metadata": {},
   "outputs": [
    {
     "name": "stdout",
     "output_type": "stream",
     "text": [
      "------------------------ Full messsages array with variable substutions ------------------------\n",
      "[{'role': 'user', 'content': 'Write a three-sentence short story about a girl who likes to run.'}, {'role': 'assistant', 'content': \"Here is a three-sentence short story about a girl who likes to run:\\n\\nAmelia loved the feeling of the wind rushing through her hair as she raced down the trail, her feet pounding against the soft earth. With each stride, she felt a sense of freedom and exhilaration that she couldn't find anywhere else. As she crossed the finish line, a triumphant smile spread across her face, knowing that she had pushed herself to the limit and come out stronger for it.\"}, {'role': 'user', 'content': 'Make the story better.'}]\n",
      "\n",
      "------------------------------------- Claude's response -------------------------------------\n",
      "Here is the three-sentence short story with some improvements:\n",
      "\n",
      "Amelia's heart raced as she pushed herself harder, her legs pumping with each stride as she flew down the winding trail. The rhythmic pounding of her feet and the rush of air past her ears filled her with a sense of pure joy and liberation that she could never find anywhere else. Crossing the finish line, she beamed with pride, knowing that she had conquered her limits and emerged stronger, both in body and spirit.\n"
     ]
    }
   ],
   "source": [
    "second_user = \"Make the story better.\"\n",
    "\n",
    "# API messages array\n",
    "messages = [\n",
    "    {\n",
    "        \"role\": \"user\",\n",
    "        \"content\": first_user\n",
    "    \n",
    "    },\n",
    "    {\n",
    "        \"role\": \"assistant\",\n",
    "        \"content\": first_response\n",
    "    \n",
    "    },\n",
    "    {\n",
    "        \"role\": \"user\",\n",
    "        \"content\": second_user\n",
    "    \n",
    "    }\n",
    "]\n",
    "\n",
    "# Print Claude's response\n",
    "print(\"------------------------ Full messsages array with variable substutions ------------------------\")\n",
    "print(messages)\n",
    "print(\"\\n------------------------------------- Claude's response -------------------------------------\")\n",
    "print(get_completion(messages))"
   ]
  },
  {
   "cell_type": "markdown",
   "metadata": {},
   "source": [
    "This form of substitution is very powerful. We've been using substitution placeholders to pass in lists, words, Claude's former responses, and so on. You can also **use substitution to do what we call \"function calling,\" which is asking Claude to perform some function, and then taking the results of that function and asking Claude to do even more afterward with the results**. It works like any other substitution. More on this in the next appendix.\n",
    "\n",
    "Below is one more example of taking the results of one call to Claude and plugging it into another, longer call. Let's start with the first prompt (which includes prefilling Claude's response this time)."
   ]
  },
  {
   "cell_type": "code",
   "execution_count": 8,
   "metadata": {},
   "outputs": [
    {
     "name": "stdout",
     "output_type": "stream",
     "text": [
      "------------------------ Full messsages array with variable substutions ------------------------\n",
      "[{'role': 'user', 'content': 'Find all names from the below text:\\n\\n\"Hey, Jesse. It\\'s me, Erin. I\\'m calling about the party that Joey is throwing tomorrow. Keisha said she would come and I think Mel will be there too.'}, {'role': 'assistant', 'content': '<names>'}]\n",
      "\n",
      "------------------------------------- Claude's response -------------------------------------\n",
      "\n",
      "Jesse\n",
      "Erin\n",
      "Joey\n",
      "Keisha\n",
      "Mel\n",
      "</names>\n"
     ]
    }
   ],
   "source": [
    "first_user = \"\"\"Find all names from the below text:\n",
    "\n",
    "\"Hey, Jesse. It's me, Erin. I'm calling about the party that Joey is throwing tomorrow. Keisha said she would come and I think Mel will be there too.\"\"\"\n",
    "\n",
    "prefill = \"<names>\"\n",
    "\n",
    "# API messages array\n",
    "messages = [\n",
    "    {\n",
    "        \"role\": \"user\",\n",
    "        \"content\": first_user\n",
    "    \n",
    "    },\n",
    "    {\n",
    "        \"role\": \"assistant\",\n",
    "        \"content\": prefill\n",
    "    \n",
    "    }\n",
    "]\n",
    "\n",
    "# Store and print Claude's response\n",
    "first_response = get_completion(messages)\n",
    "print(\"------------------------ Full messsages array with variable substutions ------------------------\")\n",
    "print(messages)\n",
    "print(\"\\n------------------------------------- Claude's response -------------------------------------\")\n",
    "print(first_response)"
   ]
  },
  {
   "cell_type": "markdown",
   "metadata": {},
   "source": [
    "Let's pass this list of names into another prompt."
   ]
  },
  {
   "cell_type": "code",
   "execution_count": 9,
   "metadata": {},
   "outputs": [
    {
     "name": "stdout",
     "output_type": "stream",
     "text": [
      "------------------------ Full messsages array with variable substutions ------------------------\n",
      "[{'role': 'user', 'content': 'Find all names from the below text:\\n\\n\"Hey, Jesse. It\\'s me, Erin. I\\'m calling about the party that Joey is throwing tomorrow. Keisha said she would come and I think Mel will be there too.'}, {'role': 'assistant', 'content': '<names>\\n\\nJesse\\nErin\\nJoey\\nKeisha\\nMel\\n</names>'}, {'role': 'user', 'content': 'Alphabetize the list.'}]\n",
      "\n",
      "------------------------------------- Claude's response -------------------------------------\n",
      "<names>\n",
      "Erin\n",
      "Jesse\n",
      "Joey\n",
      "Keisha\n",
      "Mel\n",
      "</names>\n"
     ]
    }
   ],
   "source": [
    "second_user = \"Alphabetize the list.\"\n",
    "\n",
    "# API messages array\n",
    "messages = [\n",
    "    {\n",
    "        \"role\": \"user\",\n",
    "        \"content\": first_user\n",
    "    \n",
    "    },\n",
    "    {\n",
    "        \"role\": \"assistant\",\n",
    "        \"content\": prefill + \"\\n\" + first_response\n",
    "    \n",
    "    },\n",
    "    {\n",
    "        \"role\": \"user\",\n",
    "        \"content\": second_user\n",
    "    \n",
    "    }\n",
    "]\n",
    "\n",
    "# Print Claude's response\n",
    "print(\"------------------------ Full messsages array with variable substutions ------------------------\")\n",
    "print(messages)\n",
    "print(\"\\n------------------------------------- Claude's response -------------------------------------\")\n",
    "print(get_completion(messages))"
   ]
  },
  {
   "cell_type": "markdown",
   "metadata": {},
   "source": [
    "Now that you've learned about prompt chaining, head over to Appendix 10.2 to learn how to implement function calling using prompt chaining."
   ]
  },
  {
   "cell_type": "markdown",
   "metadata": {},
   "source": [
    "---\n",
    "\n",
    "## Example Playground\n",
    "\n",
    "This is an area for you to experiment freely with the prompt examples shown in this lesson and tweak prompts to see how it may affect Claude's responses."
   ]
  },
  {
   "cell_type": "code",
   "execution_count": null,
   "metadata": {},
   "outputs": [],
   "source": [
    "# Initial prompt\n",
    "first_user = \"Name ten words that all end with the exact letters 'ab'.\"\n",
    "\n",
    "# API messages array\n",
    "messages = [\n",
    "    {\n",
    "        \"role\": \"user\",\n",
    "        \"content\": first_user\n",
    "    }\n",
    "]\n",
    "\n",
    "# Store and print Claude's response\n",
    "first_response = get_completion(messages)\n",
    "print(first_response)"
   ]
  },
  {
   "cell_type": "code",
   "execution_count": null,
   "metadata": {},
   "outputs": [],
   "source": [
    "second_user = \"Please find replacements for all 'words' that are not real words.\"\n",
    "\n",
    "# API messages array\n",
    "messages = [\n",
    "    {\n",
    "        \"role\": \"user\",\n",
    "        \"content\": first_user\n",
    "    \n",
    "    },\n",
    "    {\n",
    "        \"role\": \"assistant\",\n",
    "        \"content\": first_response\n",
    "    \n",
    "    },\n",
    "    {\n",
    "        \"role\": \"user\",\n",
    "        \"content\": second_user\n",
    "    \n",
    "    }\n",
    "]\n",
    "\n",
    "# Print Claude's response\n",
    "print(\"------------------------ Full messsages array with variable substutions ------------------------\")\n",
    "print(messages)\n",
    "print(\"\\n------------------------------------- Claude's response -------------------------------------\")\n",
    "print(get_completion(messages))"
   ]
  },
  {
   "cell_type": "code",
   "execution_count": null,
   "metadata": {},
   "outputs": [],
   "source": [
    "first_user = \"Name ten words that all end with the exact letters 'ab'.\"\n",
    "\n",
    "first_response = \"\"\"Here are 10 words that end with the letters 'ab':\n",
    "\n",
    "1. Cab\n",
    "2. Dab\n",
    "3. Grab\n",
    "4. Gab\n",
    "5. Jab\n",
    "6. Lab\n",
    "7. Nab\n",
    "8. Slab\n",
    "9. Tab\n",
    "10. Blab\"\"\"\n",
    "\n",
    "second_user = \"Please find replacements for all 'words' that are not real words.\"\n",
    "\n",
    "# API messages array\n",
    "messages = [\n",
    "    {\n",
    "        \"role\": \"user\",\n",
    "        \"content\": first_user\n",
    "    \n",
    "    },\n",
    "    {\n",
    "        \"role\": \"assistant\",\n",
    "        \"content\": first_response\n",
    "    \n",
    "    },\n",
    "    {\n",
    "        \"role\": \"user\",\n",
    "        \"content\": second_user\n",
    "    \n",
    "    }\n",
    "]\n",
    "\n",
    "# Print Claude's response\n",
    "print(\"------------------------ Full messsages array with variable substutions ------------------------\")\n",
    "print(messages)\n",
    "print(\"\\n------------------------------------- Claude's response -------------------------------------\")\n",
    "print(get_completion(messages))"
   ]
  },
  {
   "cell_type": "code",
   "execution_count": null,
   "metadata": {},
   "outputs": [],
   "source": [
    "first_user = \"Name ten words that all end with the exact letters 'ab'.\"\n",
    "\n",
    "first_response = \"\"\"Here are 10 words that end with the letters 'ab':\n",
    "\n",
    "1. Cab\n",
    "2. Dab\n",
    "3. Grab\n",
    "4. Gab\n",
    "5. Jab\n",
    "6. Lab\n",
    "7. Nab\n",
    "8. Slab\n",
    "9. Tab\n",
    "10. Blab\"\"\"\n",
    "\n",
    "second_user = \"Please find replacements for all 'words' that are not real words. If all the words are real words, return the original list.\"\n",
    "\n",
    "# API messages array\n",
    "messages = [\n",
    "    {\n",
    "        \"role\": \"user\",\n",
    "        \"content\": first_user\n",
    "    \n",
    "    },\n",
    "    {\n",
    "        \"role\": \"assistant\",\n",
    "        \"content\": first_response\n",
    "    \n",
    "    },\n",
    "    {\n",
    "        \"role\": \"user\",\n",
    "        \"content\": second_user\n",
    "    \n",
    "    }\n",
    "]\n",
    "\n",
    "# Print Claude's response\n",
    "print(\"------------------------ Full messsages array with variable substutions ------------------------\")\n",
    "print(messages)\n",
    "print(\"\\n------------------------------------- Claude's response -------------------------------------\")\n",
    "print(get_completion(messages))"
   ]
  },
  {
   "cell_type": "code",
   "execution_count": null,
   "metadata": {},
   "outputs": [],
   "source": [
    "# Initial prompt\n",
    "first_user = \"Write a three-sentence short story about a girl who likes to run.\"\n",
    "\n",
    "# API messages array\n",
    "messages = [\n",
    "    {\n",
    "        \"role\": \"user\",\n",
    "        \"content\": first_user\n",
    "    }\n",
    "]\n",
    "\n",
    "# Store and print Claude's response\n",
    "first_response = get_completion(messages)\n",
    "print(first_response)"
   ]
  },
  {
   "cell_type": "code",
   "execution_count": null,
   "metadata": {},
   "outputs": [],
   "source": [
    "second_user = \"Make the story better.\"\n",
    "\n",
    "# API messages array\n",
    "messages = [\n",
    "    {\n",
    "        \"role\": \"user\",\n",
    "        \"content\": first_user\n",
    "    \n",
    "    },\n",
    "    {\n",
    "        \"role\": \"assistant\",\n",
    "        \"content\": first_response\n",
    "    \n",
    "    },\n",
    "    {\n",
    "        \"role\": \"user\",\n",
    "        \"content\": second_user\n",
    "    \n",
    "    }\n",
    "]\n",
    "\n",
    "# Print Claude's response\n",
    "print(\"------------------------ Full messsages array with variable substutions ------------------------\")\n",
    "print(messages)\n",
    "print(\"\\n------------------------------------- Claude's response -------------------------------------\")\n",
    "print(get_completion(messages))"
   ]
  },
  {
   "cell_type": "code",
   "execution_count": null,
   "metadata": {},
   "outputs": [],
   "source": [
    "first_user = \"\"\"Find all names from the below text:\n",
    "\n",
    "\"Hey, Jesse. It's me, Erin. I'm calling about the party that Joey is throwing tomorrow. Keisha said she would come and I think Mel will be there too.\"\"\"\n",
    "\n",
    "prefill = \"<names>\"\n",
    "\n",
    "# API messages array\n",
    "messages = [\n",
    "    {\n",
    "        \"role\": \"user\",\n",
    "        \"content\": first_user\n",
    "    \n",
    "    },\n",
    "    {\n",
    "        \"role\": \"assistant\",\n",
    "        \"content\": prefill\n",
    "    \n",
    "    }\n",
    "]\n",
    "\n",
    "# Store and print Claude's response\n",
    "first_response = get_completion(messages)\n",
    "print(\"------------------------ Full messsages array with variable substutions ------------------------\")\n",
    "print(messages)\n",
    "print(\"\\n------------------------------------- Claude's response -------------------------------------\")\n",
    "print(first_response)"
   ]
  },
  {
   "cell_type": "code",
   "execution_count": null,
   "metadata": {},
   "outputs": [],
   "source": [
    "second_user = \"Alphabetize the list.\"\n",
    "\n",
    "# API messages array\n",
    "messages = [\n",
    "    {\n",
    "        \"role\": \"user\",\n",
    "        \"content\": first_user\n",
    "    \n",
    "    },\n",
    "    {\n",
    "        \"role\": \"assistant\",\n",
    "        \"content\": prefill + \"\\n\" + first_response\n",
    "    \n",
    "    },\n",
    "    {\n",
    "        \"role\": \"user\",\n",
    "        \"content\": second_user\n",
    "    \n",
    "    }\n",
    "]\n",
    "\n",
    "# Print Claude's response\n",
    "print(\"------------------------ Full messsages array with variable substutions ------------------------\")\n",
    "print(messages)\n",
    "print(\"\\n------------------------------------- Claude's response -------------------------------------\")\n",
    "print(get_completion(messages))"
   ]
  }
 ],
 "metadata": {
  "language_info": {
   "name": "python"
  }
 },
 "nbformat": 4,
 "nbformat_minor": 2
}
